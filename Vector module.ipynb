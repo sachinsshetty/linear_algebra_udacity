{
 "cells": [
  {
   "cell_type": "markdown",
   "metadata": {},
   "source": [
    "## Vector Module"
   ]
  },
  {
   "cell_type": "code",
   "execution_count": 1,
   "metadata": {},
   "outputs": [],
   "source": [
    "class Vector(object):\n",
    "    def __init__(self, coordinates):\n",
    "        try:\n",
    "            if not coordinates:\n",
    "                raise ValueError\n",
    "            self.coordinates = tuple(coordinates)\n",
    "            self.dimension = len(coordinates)\n",
    "            \n",
    "        except:\n",
    "            raise ValueError('The Coordinates must be non empty')\n",
    "            \n",
    "        #except:\n",
    "         #   raise TypeError('The Coordinates must be iterable')\n",
    "            \n",
    "    def __str__(self):\n",
    "        return 'Vector : {}'.format(self.coordinates)\n",
    "    \n",
    "    def __eq__(self,v):\n",
    "        return self.coordinates == v.coordinates"
   ]
  },
  {
   "cell_type": "code",
   "execution_count": 2,
   "metadata": {},
   "outputs": [],
   "source": [
    "my_vector = Vector([1,2,3])"
   ]
  },
  {
   "cell_type": "code",
   "execution_count": 3,
   "metadata": {},
   "outputs": [
    {
     "name": "stdout",
     "output_type": "stream",
     "text": [
      "Vector : (1, 2, 3)\n"
     ]
    }
   ],
   "source": [
    "print(my_vector)"
   ]
  },
  {
   "cell_type": "code",
   "execution_count": 4,
   "metadata": {},
   "outputs": [],
   "source": [
    "my_vector2 = Vector([1,2,3])\n",
    "my_vector3 = Vector([-1,2,3])"
   ]
  },
  {
   "cell_type": "code",
   "execution_count": 5,
   "metadata": {},
   "outputs": [
    {
     "name": "stdout",
     "output_type": "stream",
     "text": [
      "True\n",
      "False\n"
     ]
    }
   ],
   "source": [
    "print(my_vector == my_vector2)\n",
    "print(my_vector == my_vector3)"
   ]
  },
  {
   "cell_type": "markdown",
   "metadata": {},
   "source": [
    "## Vector Operation"
   ]
  },
  {
   "cell_type": "code",
   "execution_count": 6,
   "metadata": {},
   "outputs": [],
   "source": [
    "class Vector(object):\n",
    "    def __init__(self, coordinates):\n",
    "        try:\n",
    "            if not coordinates:\n",
    "                raise ValueError\n",
    "            self.coordinates = tuple(coordinates)\n",
    "            self.dimension = len(coordinates)\n",
    "            \n",
    "        except:\n",
    "            raise ValueError('The Coordinates must be non empty')\n",
    "            \n",
    "        #except:\n",
    "         #   raise TypeError('The Coordinates must be iterable')\n",
    "            \n",
    "    def __str__(self):\n",
    "        return 'Vector : {}'.format(self.coordinates)\n",
    "    \n",
    "    def __eq__(self,v):\n",
    "        return self.coordinates == v.coordinates\n",
    "    \n",
    "    def plus(self,v):\n",
    "        #new_coordinates = []\n",
    "        #n = len(self.coordinates)\n",
    "        #for i in range(n):\n",
    "        #    new_coordinates.append(self.coordinates[i] + v.coordinates[i])\n",
    "        #return Vector(new_coordinates)\n",
    "        new_coordinates = [x+y for x,y in zip(self.coordinates,v.coordinates)]\n",
    "        return Vector(new_coordinates)\n",
    "    \n",
    "    def minus(self,v):\n",
    "        new_coordinates = [x-y for x,y in zip(self.coordinates,v.coordinates)]\n",
    "        return Vector(new_coordinates)\n",
    "    \n",
    "    def times_scalar(self,c):\n",
    "        new_coordinates = [c*x for x in self.coordinates]\n",
    "        return Vector(new_coordinates)\n"
   ]
  },
  {
   "cell_type": "markdown",
   "metadata": {},
   "source": [
    "### Addition"
   ]
  },
  {
   "cell_type": "code",
   "execution_count": 7,
   "metadata": {},
   "outputs": [
    {
     "name": "stdout",
     "output_type": "stream",
     "text": [
      "Vector : (7.089, -7.202999999999999)\n"
     ]
    }
   ],
   "source": [
    "v = Vector([8.218,-9.314])\n",
    "w = Vector([-1.129, 2.111])\n",
    "                    \n",
    "print(v.plus(w))"
   ]
  },
  {
   "cell_type": "markdown",
   "metadata": {},
   "source": [
    "### Subtraction"
   ]
  },
  {
   "cell_type": "code",
   "execution_count": 8,
   "metadata": {},
   "outputs": [
    {
     "name": "stdout",
     "output_type": "stream",
     "text": [
      "Vector : (15.341, 7.337)\n"
     ]
    }
   ],
   "source": [
    "v = Vector([7.119, 8.215])\n",
    "w = Vector([-8.222, 0.878])\n",
    "                    \n",
    "print(v.minus(w))"
   ]
  },
  {
   "cell_type": "markdown",
   "metadata": {},
   "source": [
    "### Multiplication"
   ]
  },
  {
   "cell_type": "code",
   "execution_count": 9,
   "metadata": {},
   "outputs": [
    {
     "name": "stdout",
     "output_type": "stream",
     "text": [
      "Vector : (12.38211, -7.49892, -2.35638)\n"
     ]
    }
   ],
   "source": [
    "c = 7.41\n",
    "v = Vector([1.671,-1.012,-0.318])\n",
    "\n",
    "print(v.times_scalar(c))"
   ]
  },
  {
   "cell_type": "markdown",
   "metadata": {},
   "source": [
    "## Magnitude and Direction"
   ]
  },
  {
   "cell_type": "code",
   "execution_count": 10,
   "metadata": {},
   "outputs": [],
   "source": [
    "from math import sqrt\n",
    "\n",
    "class Vector(object):\n",
    "    def __init__(self, coordinates):\n",
    "        try:\n",
    "            if not coordinates:\n",
    "                raise ValueError\n",
    "            self.coordinates = tuple(coordinates)\n",
    "            self.dimension = len(coordinates)\n",
    "            \n",
    "        except:\n",
    "            raise ValueError('The Coordinates must be non empty')\n",
    "            \n",
    "        #except:\n",
    "         #   raise TypeError('The Coordinates must be iterable')\n",
    "            \n",
    "    def __str__(self):\n",
    "        return 'Vector : {}'.format(self.coordinates)\n",
    "    \n",
    "    def __eq__(self,v):\n",
    "        return self.coordinates == v.coordinates\n",
    "    \n",
    "    def plus(self,v):\n",
    "        new_coordinates = [x+y for x,y in zip(self.coordinates,v.coordinates)]\n",
    "        return Vector(new_coordinates)\n",
    "    \n",
    "    def minus(self,v):\n",
    "        new_coordinates = [x-y for x,y in zip(self.coordinates,v.coordinates)]\n",
    "        return Vector(new_coordinates)\n",
    "    \n",
    "    def times_scalar(self,c):\n",
    "        new_coordinates = [c*x for x in self.coordinates]\n",
    "        return Vector(new_coordinates)\n",
    "    \n",
    "    def magnitude(self):\n",
    "        #sum = 0\n",
    "        #for i in range(len(self.coordinates)):\n",
    "        #    sum = sum + self.coordinates[i] **2\n",
    "        #return math.sqrt(sum)\n",
    "        coordinates_squared = [x**2 for x in self.coordinates]\n",
    "        return sqrt(sum(coordinates_squared))\n",
    "    \n",
    "    def normalized(self):\n",
    "        #new_coordinates = [ x/self.magnitude() for x in self.coordinates ]\n",
    "        #return Vector(new_coordinates)\n",
    "        try:\n",
    "            magnitude = self.magnitude()\n",
    "            return self.times_scalar(1./magnitude)\n",
    "        except ZeroDivisionError:\n",
    "            raise Exception('Cannot normalize zero Vector')\n",
    "        \n"
   ]
  },
  {
   "cell_type": "code",
   "execution_count": 11,
   "metadata": {},
   "outputs": [
    {
     "name": "stdout",
     "output_type": "stream",
     "text": [
      "7.440282924728065\n",
      "10.884187567292289\n"
     ]
    }
   ],
   "source": [
    "v = Vector([-0.221, 7.437])\n",
    "print(v.magnitude())\n",
    "\n",
    "w = Vector([8.813, -1.331,-6.247])\n",
    "print(w.magnitude())\n"
   ]
  },
  {
   "cell_type": "code",
   "execution_count": 12,
   "metadata": {},
   "outputs": [
    {
     "name": "stdout",
     "output_type": "stream",
     "text": [
      "Vector : (0.9339352140866403, -0.35744232526233)\n",
      "Vector : (0.3387594045673789, 0.5296313953583643, -0.777645581783827)\n"
     ]
    }
   ],
   "source": [
    "v = Vector([5.581, -2.136])\n",
    "print(v.normalized())\n",
    "\n",
    "w = Vector([1.986, 3.105, -4.559])\n",
    "print(w.normalized())"
   ]
  },
  {
   "cell_type": "markdown",
   "metadata": {},
   "source": [
    "## Inner Product"
   ]
  },
  {
   "cell_type": "code",
   "execution_count": 13,
   "metadata": {},
   "outputs": [],
   "source": [
    "from math import sqrt,acos,pi\n",
    "\n",
    "class Vector(object):\n",
    "    def __init__(self, coordinates):\n",
    "        try:\n",
    "            if not coordinates:\n",
    "                raise ValueError\n",
    "            self.coordinates = tuple(coordinates)\n",
    "            self.dimension = len(coordinates)\n",
    "            \n",
    "        except:\n",
    "            raise ValueError('The Coordinates must be non empty')\n",
    "            \n",
    "        #except:\n",
    "         #   raise TypeError('The Coordinates must be iterable')\n",
    "            \n",
    "    def __str__(self):\n",
    "        return 'Vector : {}'.format(self.coordinates)\n",
    "    \n",
    "    def __eq__(self,v):\n",
    "        return self.coordinates == v.coordinates\n",
    "    \n",
    "    def plus(self,v):\n",
    "        new_coordinates = [x+y for x,y in zip(self.coordinates,v.coordinates)]\n",
    "        return Vector(new_coordinates)\n",
    "    \n",
    "    def minus(self,v):\n",
    "        new_coordinates = [x-y for x,y in zip(self.coordinates,v.coordinates)]\n",
    "        return Vector(new_coordinates)\n",
    "    \n",
    "    def times_scalar(self,c):\n",
    "        new_coordinates = [c*x for x in self.coordinates]\n",
    "        return Vector(new_coordinates)\n",
    "    \n",
    "    def magnitude(self):\n",
    "        coordinates_squared = [x**2 for x in self.coordinates]\n",
    "        return sqrt(sum(coordinates_squared))\n",
    "    \n",
    "    def normalized(self):\n",
    "        try:\n",
    "            magnitude = self.magnitude()\n",
    "            return self.times_scalar(1./magnitude)\n",
    "        except ZeroDivisionError:\n",
    "            raise Exception('Cannot normalize zero Vector')\n",
    "    \n",
    "    def dot_product(self,v):\n",
    "        new_coordinates = [x*y for x,y in zip(self.coordinates,v.coordinates)]\n",
    "        return sum(new_coordinates)\n",
    "    \n",
    "    def angle_rad(self,v):\n",
    "        dot_prod = self.dot_product(v)\n",
    "        return acos(dot_prod/(self.magnitude()* v.magnitude()))\n",
    "    \n",
    "    def angle_with(self, v, in_degrees=False):\n",
    "        try:\n",
    "            u1 = self.normalized()\n",
    "            u2 = v.normalized()\n",
    "            angle_in_radians = acos(u1.dot_product(u2))\n",
    "            \n",
    "            if in_degrees:\n",
    "                degrees_per_radian = 180./pi\n",
    "                return angle_in_radians * degrees_per_radian\n",
    "            else :\n",
    "                return angle_in_radians\n",
    "            \n",
    "        except Exception as e:\n",
    "            raise Exception('Message')"
   ]
  },
  {
   "cell_type": "code",
   "execution_count": 14,
   "metadata": {},
   "outputs": [
    {
     "name": "stdout",
     "output_type": "stream",
     "text": [
      "-44.593374\n",
      "56.57701800000002\n"
     ]
    }
   ],
   "source": [
    "v = Vector([7.887, 4.138])\n",
    "\n",
    "w = Vector([-8.802,6,776])\n",
    "\n",
    "print(v.dot_product(w))\n",
    "      \n",
    "x = Vector([-5.995,-4.904,-1.874])\n",
    "\n",
    "y = Vector([-4.496, -8.755, 7.103])\n",
    "\n",
    "print(x.dot_product(y))\n",
    "\n",
    "\n"
   ]
  },
  {
   "cell_type": "code",
   "execution_count": 15,
   "metadata": {},
   "outputs": [
    {
     "name": "stdout",
     "output_type": "stream",
     "text": [
      "2.2817592799505166\n",
      "130.7351766059743\n"
     ]
    }
   ],
   "source": [
    "v = Vector([3.183, -7.627])\n",
    "\n",
    "w = Vector([2.665,5.319])\n",
    "\n",
    "print(v.angle_rad(w))\n",
    "\n",
    "print(v.angle_with(w,True))"
   ]
  }
 ],
 "metadata": {
  "kernelspec": {
   "display_name": "Python 3",
   "language": "python",
   "name": "python3"
  },
  "language_info": {
   "codemirror_mode": {
    "name": "ipython",
    "version": 3
   },
   "file_extension": ".py",
   "mimetype": "text/x-python",
   "name": "python",
   "nbconvert_exporter": "python",
   "pygments_lexer": "ipython3",
   "version": "3.6.4"
  }
 },
 "nbformat": 4,
 "nbformat_minor": 2
}
